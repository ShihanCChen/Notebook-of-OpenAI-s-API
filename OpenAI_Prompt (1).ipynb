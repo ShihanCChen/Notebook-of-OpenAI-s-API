{
 "cells": [
  {
   "cell_type": "markdown",
   "id": "81b282d9-311b-4da9-b4cf-f859c041b802",
   "metadata": {},
   "source": [
    "This notebook uses OpenAI API’s model \"gpt-3.5-turbo\" to generate text based on a prompt. "
   ]
  },
  {
   "cell_type": "code",
   "execution_count": 6,
   "id": "9e117080-d878-4a4f-9aeb-c2362a54658b",
   "metadata": {},
   "outputs": [],
   "source": [
    "##Make sure you have OpenAI library installed\n",
    "##pip install openai"
   ]
  },
  {
   "cell_type": "code",
   "execution_count": 7,
   "id": "b0318840-ab1b-4ff4-9e2f-db00451a7a7e",
   "metadata": {},
   "outputs": [],
   "source": [
    "from openai import OpenAI\n",
    "\n",
    "##Import the OpenAI library in Python"
   ]
  },
  {
   "cell_type": "code",
   "execution_count": 14,
   "id": "40d8b469-8188-422f-a851-ccb0fe7ec069",
   "metadata": {},
   "outputs": [],
   "source": [
    "client = OpenAI(api_key=\"API_KEY")\n",
    "\n",
    "##Set the API Key. Replace \"API_KEY\" to your own API key."
   ]
  },
  {
   "cell_type": "code",
   "execution_count": 12,
   "id": "7033530f-15e4-48e0-aace-aa38296a799e",
   "metadata": {},
   "outputs": [],
   "source": [
    "def send_request(messages):   ##This line defines a function named send_request that takes a single parameter messages, which represents the input text you want to use for generating text.\n",
    "    \n",
    "    response = client.chat.completions.create(\n",
    "        model=\"gpt-3.5-turbo\",\n",
    "        messages = [{\"role\": \"system\", \"content\": f\"{messages}\"}],\n",
    "        max_tokens=200 \n",
    "    ) ##Make an API Request to Generate Text.\n",
    "\n",
    "\n",
    "    generated_comment = str(response.choices[0].message)    ##Retrieve the Generated Text.\n",
    "\n",
    "    return generated_comment    ##Return the Generated Text."
   ]
  },
  {
   "cell_type": "code",
   "execution_count": 9,
   "id": "c6345cc8-b1a8-411a-b560-c95db48d7aa8",
   "metadata": {},
   "outputs": [
    {
     "name": "stdout",
     "output_type": "stream",
     "text": [
      "ask: tell me a story about a econ phd student\n",
      "GPT: ChatCompletionMessage(content=\"Once upon a time, there was a dedicated and hardworking economics Ph.D. student named Emily. She had always been passionate about understanding the intricacies of the world's financial systems and was determined to make a meaningful contribution to the field of economics.\\n\\nEmily spent countless hours conducting research, analyzing data, and writing papers to further her knowledge and expertise in the subject. She constantly challenged herself to think critically and creatively, pushing the boundaries of economic theory and exploring new ideas.\\n\\nDespite the rigorous demands of her program, Emily found joy in the pursuit of knowledge and the opportunity to collaborate with like-minded individuals. She attended seminars, conferences, and workshops, where she engaged with renowned economists and participated in stimulating discussions that fueled her curiosity and inspired her to continue her academic journey.\\n\\nAs she delved deeper into her research, Emily discovered a passion for studying income inequality and its effects on economic growth. She dedicated her dissertation to exploring this complex and pressing issue, hoping to shed light on potential solutions that could lead to\", role='assistant', function_call=None, tool_calls=None)\n"
     ]
    }
   ],
   "source": [
    "question = \"tell me a story about a econ phd student\"   ##Define the question Variable.\n",
    "print('ask:',question)      ##Print the Input Question.\n",
    "print('GPT:',send_request(question))  ##Generate Text Using the OpenAI API."
   ]
  }
 ],
 "metadata": {
  "kernelspec": {
   "display_name": "Python 3 (ipykernel)",
   "language": "python",
   "name": "python3"
  },
  "language_info": {
   "codemirror_mode": {
    "name": "ipython",
    "version": 3
   },
   "file_extension": ".py",
   "mimetype": "text/x-python",
   "name": "python",
   "nbconvert_exporter": "python",
   "pygments_lexer": "ipython3",
   "version": "3.11.7"
  }
 },
 "nbformat": 4,
 "nbformat_minor": 5
}
